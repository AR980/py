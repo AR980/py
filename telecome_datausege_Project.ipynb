{
  "nbformat": 4,
  "nbformat_minor": 0,
  "metadata": {
    "colab": {
      "private_outputs": true,
      "provenance": [],
      "collapsed_sections": [
        "beRrZCGUAJYm",
        "MSa1f5Uengrz",
        "448CDAPjqfQr",
        "azX1PEddq_20",
        "iyKleWeyq_20",
        "8-UX51ofq_21",
        "w8bcvZxarGfg",
        "jbkhcZqdrGfh",
        "Uw0GT_uHrHcb",
        "qTEiGUKorHcc",
        "1Qw8mtL3rHcd",
        "mwHQVoIQrIPu",
        "Kwy5hImkrIPu",
        "0sjxqkK0rIPv",
        "y7avNpR9HL5z",
        "Z5yPuW4iHL50",
        "3vIdo55JHL50",
        "IlhlbgNBHL51",
        "oQ-pHCWMHO92",
        "DEMFeE18HO92",
        "MR3eS7xTHO93",
        "JmI1Y4YbHO93",
        "XGShqbS2HSAY",
        "B4XxyvTzHSAZ",
        "Mal1wQlpHSAZ",
        "BgP_e3WlHSAZ",
        "I3aNiIh9fKqZ",
        "hTF1e9PwfKqa",
        "1xrBLU6IfKqa",
        "yiLHMWFSfKqb",
        "UV0SzAkaZNRQ",
        "YPEH6qLeZNRQ",
        "EXh0U9oCveiU",
        "22aHeOlLveiV",
        "gIfDvo9L0UH2"
      ],
      "cell_execution_strategy": "setup",
      "include_colab_link": true
    },
    "kernelspec": {
      "name": "python3",
      "display_name": "Python 3"
    },
    "language_info": {
      "name": "python"
    }
  },
  "cells": [
    {
      "cell_type": "markdown",
      "metadata": {
        "id": "view-in-github",
        "colab_type": "text"
      },
      "source": [
        "<a href=\"https://colab.research.google.com/github/AR980/py/blob/master/telecome_datausege_Project.ipynb\" target=\"_parent\"><img src=\"https://colab.research.google.com/assets/colab-badge.svg\" alt=\"Open In Colab\"/></a>"
      ]
    },
    {
      "cell_type": "markdown",
      "source": [
        "# **Project Name**    -  **Telecom Usage Analysis**\n",
        "\n"
      ],
      "metadata": {
        "id": "vncDsAP0Gaoa"
      }
    },
    {
      "cell_type": "markdown",
      "source": [
        "##### **Project Type**    - EDA\n",
        "##### **Contribution**    - Individual\n"
      ],
      "metadata": {
        "id": "beRrZCGUAJYm"
      }
    },
    {
      "cell_type": "markdown",
      "source": [
        "# **Problem Statement**\n"
      ],
      "metadata": {
        "id": "yQaldy8SH6Dl"
      }
    },
    {
      "cell_type": "markdown",
      "source": [
        "**BUSINESS PROBLEM OVERVIEW**\n",
        "\n",
        "\n",
        "The goal of this project is to analyze the telecommunications usage data to uncover patterns, trends, and insights that can help improve customer satisfaction, optimize network performance, and identify opportunities for cost savings."
      ],
      "metadata": {
        "id": "DpeJGUA3kjGy"
      }
    },
    {
      "cell_type": "markdown",
      "source": [
        "#### **Define Your Business Objective?**"
      ],
      "metadata": {
        "id": "PH-0ReGfmX4f"
      }
    },
    {
      "cell_type": "markdown",
      "source": [
        "To leverage detailed analysis of telecommunication usage patterns to enhance service quality, improve network performance, and increase customer satisfaction. This will be achieved by understanding daily and overall usage trends, identifying network performance issues, and detecting anomalies in the data"
      ],
      "metadata": {
        "id": "ZrxVaUj-hHfC"
      }
    },
    {
      "cell_type": "markdown",
      "source": [
        "# ***Let's Begin !***"
      ],
      "metadata": {
        "id": "O_i_v8NEhb9l"
      }
    },
    {
      "cell_type": "markdown",
      "source": [
        "## ***1. Know Your Data***"
      ],
      "metadata": {
        "id": "HhfV-JJviCcP"
      }
    },
    {
      "cell_type": "markdown",
      "source": [
        "### Import Libraries"
      ],
      "metadata": {
        "id": "Y3lxredqlCYt"
      }
    },
    {
      "cell_type": "code",
      "source": [
        "# Import Libraries\n",
        "import numpy as np\n",
        "import pandas as pd\n",
        "import seaborn as sns\n",
        "import matplotlib.pyplot as plt\n",
        "%matplotlib inline\n",
        "from matplotlib import rcParams\n",
        "\n",
        "\n",
        "import warnings\n",
        "warnings.filterwarnings('ignore')"
      ],
      "metadata": {
        "id": "M8Vqi-pPk-HR"
      },
      "execution_count": null,
      "outputs": []
    },
    {
      "cell_type": "markdown",
      "source": [
        "### Dataset Loading"
      ],
      "metadata": {
        "id": "3RnN4peoiCZX"
      }
    },
    {
      "cell_type": "code",
      "source": [
        "from google.colab import drive\n",
        "drive.mount('/content/drive')"
      ],
      "metadata": {
        "id": "ihQ8LzfF5QDw"
      },
      "execution_count": null,
      "outputs": []
    },
    {
      "cell_type": "code",
      "source": [
        "# Importing the dataset\n",
        "df = pd.read_csv('/content/drive/MyDrive/TechMinds_DS/drive-download-20240602T164632Z-001.zip (Unzipped Files)/phone_data.csv')"
      ],
      "metadata": {
        "id": "CEhiayUv1809"
      },
      "execution_count": null,
      "outputs": []
    },
    {
      "cell_type": "markdown",
      "source": [
        "### Dataset First View"
      ],
      "metadata": {
        "id": "x71ZqKXriCWQ"
      }
    },
    {
      "cell_type": "code",
      "source": [
        "# Dataset First\n",
        "df.head()"
      ],
      "metadata": {
        "id": "LWNFOSvLl09H"
      },
      "execution_count": null,
      "outputs": []
    },
    {
      "cell_type": "markdown",
      "source": [
        "### Dataset Rows & Columns count"
      ],
      "metadata": {
        "id": "7hBIi_osiCS2"
      }
    },
    {
      "cell_type": "code",
      "source": [
        "# Dataset Rows & Columns\n",
        "df.shape"
      ],
      "metadata": {
        "id": "Kllu7SJgmLij"
      },
      "execution_count": null,
      "outputs": []
    },
    {
      "cell_type": "markdown",
      "source": [
        "### Dataset Information"
      ],
      "metadata": {
        "id": "JlHwYmJAmNHm"
      }
    },
    {
      "cell_type": "code",
      "source": [
        "# Dataset Info\n",
        "df.info()"
      ],
      "metadata": {
        "id": "e9hRXRi6meOf"
      },
      "execution_count": null,
      "outputs": []
    },
    {
      "cell_type": "code",
      "source": [
        "df.describe(include='all')"
      ],
      "metadata": {
        "id": "JpVUBXNX-ZRO"
      },
      "execution_count": null,
      "outputs": []
    },
    {
      "cell_type": "markdown",
      "source": [
        "#### Duplicate Values"
      ],
      "metadata": {
        "id": "35m5QtbWiB9F"
      }
    },
    {
      "cell_type": "code",
      "source": [
        "# Dataset Duplicate Value Count\n",
        "len(df[df.duplicated()])"
      ],
      "metadata": {
        "id": "1sLdpKYkmox0"
      },
      "execution_count": null,
      "outputs": []
    },
    {
      "cell_type": "markdown",
      "source": [
        "#### Missing Values/Null Values"
      ],
      "metadata": {
        "id": "PoPl-ycgm1ru"
      }
    },
    {
      "cell_type": "code",
      "source": [
        "# Missing Values/Null Values Count\n",
        "print(df.isnull().sum())"
      ],
      "metadata": {
        "id": "GgHWkxvamxVg"
      },
      "execution_count": null,
      "outputs": []
    },
    {
      "cell_type": "code",
      "source": [
        "# Convert the 'date' column to datetime format\n",
        "df['date'] = pd.to_datetime(df['date'], format='%d/%m/%y %H:%M')\n",
        "df.head()"
      ],
      "metadata": {
        "id": "3q5wnI3om9sJ"
      },
      "execution_count": null,
      "outputs": []
    },
    {
      "cell_type": "markdown",
      "source": [
        "### What did you know about your dataset?"
      ],
      "metadata": {
        "id": "H0kj-8xxnORC"
      }
    },
    {
      "cell_type": "markdown",
      "source": [
        "The dataset provided contains records of various telecommunication activities such as data usage, calls, and SMS over a specific period."
      ],
      "metadata": {
        "id": "gfoNAAC-nUe_"
      }
    },
    {
      "cell_type": "markdown",
      "source": [
        "## ***2. Understanding Your Variables***"
      ],
      "metadata": {
        "id": "nA9Y7ga8ng1Z"
      }
    },
    {
      "cell_type": "code",
      "source": [
        "# Dataset Columns\n",
        "df.columns"
      ],
      "metadata": {
        "id": "n87BaXA_42-R"
      },
      "execution_count": null,
      "outputs": []
    },
    {
      "cell_type": "code",
      "source": [
        "# Dataset Describe\n",
        "df.describe(include='all')"
      ],
      "metadata": {
        "id": "DnOaZdaE5Q5t"
      },
      "execution_count": null,
      "outputs": []
    },
    {
      "cell_type": "markdown",
      "source": [
        "### Variables Description"
      ],
      "metadata": {
        "id": "PBTbrJXOngz2"
      }
    },
    {
      "cell_type": "markdown",
      "source": [
        "\n",
        "\n",
        "*  index: A unique identifier for each record in the dataset.\n",
        "*   date: The date and time when the call, SMS, or data session occurred, in the format dd/mm/yy HH:MM.\n",
        "\n",
        "*  duration: The duration of the call or data session in seconds. For SMS, this value is typically not applicable (set to 1).\n",
        "*  item: The type of communication, which can be one of the following:\n",
        "call\n",
        "sms\n",
        "data\n",
        "voicemail\n",
        "\n",
        "\n",
        "*   month: The month and year when the communication occurred, in the format yyyy-mm.\n",
        "*  network_type: The type of network used for the communication, which can be:\n",
        "    mobile for mobile networks\n",
        "    landline for landline networks\n",
        "    data for data sessions\n",
        "    voicemail for voicemail services\n",
        "\n",
        "\n",
        "\n",
        "\n",
        "\n",
        "\n",
        "\n",
        "\n",
        "\n",
        "\n",
        "\n",
        "\n",
        "\n",
        "\n",
        "\n",
        "\n",
        "network_type: The type of network used for the communication, which can be:\n",
        "mobile for mobile networks\n",
        "landline for landline networks\n",
        "data for data sessions\n",
        "voicemail for voicemail services\n",
        "\n",
        "\n",
        "\n"
      ],
      "metadata": {
        "id": "aJV4KIxSnxay"
      }
    },
    {
      "cell_type": "markdown",
      "source": [
        "### Check Unique Values for each variable."
      ],
      "metadata": {
        "id": "u3PMJOP6ngxN"
      }
    },
    {
      "cell_type": "code",
      "source": [
        "# Check Unique Values for each variable.\n",
        "for i in df.columns.tolist():\n",
        "  print(\"No. of unique values in \",i,\"is\",df[i].nunique(),\".\")"
      ],
      "metadata": {
        "id": "zms12Yq5n-jE"
      },
      "execution_count": null,
      "outputs": []
    },
    {
      "cell_type": "code",
      "source": [
        "for column in df.columns:\n",
        "    print(f\"Value counts for column '{column}':\")\n",
        "    print(df[column].value_counts())\n",
        "    print(\"\\n\")"
      ],
      "metadata": {
        "id": "oPhgbNnXCLX_"
      },
      "execution_count": null,
      "outputs": []
    },
    {
      "cell_type": "code",
      "source": [
        "# Convert 'date' column to datetime\n",
        "df['date'] = pd.to_datetime(df['date'])\n",
        "\n",
        "# Extract hour from 'date' column\n",
        "df['hour'] = df['date'].dt.hour"
      ],
      "metadata": {
        "id": "y_3TiRh9Ppta"
      },
      "execution_count": null,
      "outputs": []
    },
    {
      "cell_type": "markdown",
      "source": [
        "## 3. ***Data Wrangling***"
      ],
      "metadata": {
        "id": "dauF4eBmngu3"
      }
    },
    {
      "cell_type": "markdown",
      "source": [
        "### Data Wrangling Code"
      ],
      "metadata": {
        "id": "bKJF3rekwFvQ"
      }
    },
    {
      "cell_type": "code",
      "source": [
        "\n",
        "\n",
        "# Plot peak hours for call, SMS, and data usage\n",
        "plt.figure(figsize=(10, 6))\n",
        "sns.countplot(x='hour', hue='item', data=df)\n",
        "plt.title('Peak Hours for Call, SMS, and Data Usage')\n",
        "plt.xlabel('Hour of the Day')\n",
        "plt.ylabel('Count')\n",
        "plt.legend(title='Item')\n",
        "plt.xticks(rotation=45)\n",
        "plt.show()\n"
      ],
      "metadata": {
        "id": "wk-9a2fpoLcV"
      },
      "execution_count": null,
      "outputs": []
    },
    {
      "cell_type": "code",
      "source": [
        "df.head()"
      ],
      "metadata": {
        "id": "EAVDN5LhT8r6"
      },
      "execution_count": null,
      "outputs": []
    },
    {
      "cell_type": "code",
      "source": [
        "# Plot distribution of call durations across network providers\n",
        "plt.figure(figsize=(10, 6))\n",
        "sns.barplot(x='network', y='duration', data=df[df['item'] == 'call'])\n",
        "plt.title('Distribution of Call Durations Across Network Providers')\n",
        "plt.xlabel('Network Provider')\n",
        "plt.ylabel('Call Duration (seconds)')\n",
        "plt.xticks(rotation=45)\n",
        "plt.show()\n"
      ],
      "metadata": {
        "id": "PaPWuHPHbnEw"
      },
      "execution_count": null,
      "outputs": []
    },
    {
      "cell_type": "code",
      "source": [
        "# Group data by date and calculate total data usage\n",
        "data_usage = df[df['item'] == 'data'].groupby('date')['duration'].sum()\n",
        "\n",
        "# Plot trends in data usage over time\n",
        "plt.figure(figsize=(12, 6))\n",
        "data_usage.plot()\n",
        "plt.title('Trends in Data Usage Over Time')\n",
        "plt.xlabel('Date')\n",
        "plt.ylabel('Data Usage (seconds)')\n",
        "plt.xticks(rotation=45)\n",
        "plt.show()\n"
      ],
      "metadata": {
        "id": "u2xWrB_lG8yX"
      },
      "execution_count": null,
      "outputs": []
    },
    {
      "cell_type": "code",
      "source": [
        "# Calculate the proportion of each type of activity\n",
        "activity_proportion = df['item'].value_counts(normalize=True) * 100\n",
        "\n",
        "# Plot the proportion of different types of activities\n",
        "plt.figure(figsize=(8, 6))\n",
        "activity_proportion.plot(kind='bar', color='skyblue')\n",
        "plt.title('Proportion of Different Types of Activities')\n",
        "plt.xlabel('Activity Type')\n",
        "plt.ylabel('Proportion (%)')\n",
        "plt.xticks(rotation=0)\n",
        "plt.show()\n"
      ],
      "metadata": {
        "id": "QJVcAzt8swfG"
      },
      "execution_count": null,
      "outputs": []
    },
    {
      "cell_type": "code",
      "source": [
        "# Plot comparison of call durations between mobile and landline networks\n",
        "plt.figure(figsize=(10, 6))\n",
        "sns.barplot(x='network_type', y='duration', data=df[df['item'] == 'call'])\n",
        "plt.title('Comparison of Call Durations Between Mobile and Landline Networks')\n",
        "plt.xlabel('Network Type')\n",
        "plt.ylabel('Call Duration (seconds)')\n",
        "#plt.xticks(rotation=45)\n",
        "plt.show()"
      ],
      "metadata": {
        "id": "2HVXwTbCtBq3"
      },
      "execution_count": null,
      "outputs": []
    },
    {
      "cell_type": "code",
      "source": [
        "# Extract month from 'date' column\n",
        "df['month'] = df['date'].dt.month\n",
        "\n",
        "# Plot distribution of SMS counts per month\n",
        "plt.figure(figsize=(10, 6))\n",
        "sns.countplot(x='month', data=df[df['item'] == 'sms'])\n",
        "plt.title('Distribution of SMS Counts Per Month')\n",
        "plt.xlabel('Month')\n",
        "plt.ylabel('SMS Count')\n",
        "plt.xticks(rotation=0)\n",
        "plt.show()\n"
      ],
      "metadata": {
        "id": "r0bCG190tgjO"
      },
      "execution_count": null,
      "outputs": []
    },
    {
      "cell_type": "code",
      "source": [
        "# Plot network usage distribution over the observed period\n",
        "plt.figure(figsize=(12, 6))\n",
        "sns.countplot(x='network', data=df)\n",
        "plt.title('Network Usage Distribution Over the Observed Period')\n",
        "plt.xlabel('Network')\n",
        "plt.ylabel('Usage Count')\n",
        "plt.xticks(rotation=45)\n",
        "plt.show()\n"
      ],
      "metadata": {
        "id": "cBG-uzdktskP"
      },
      "execution_count": null,
      "outputs": []
    },
    {
      "cell_type": "code",
      "source": [
        "# Calculate the total call duration for each network\n",
        "network_call_duration = df[df['item'] == 'call'].groupby('network')['duration'].sum().sort_values(ascending=False).head(5)\n",
        "\n",
        "# Plot the top 5 networks by call duration\n",
        "plt.figure(figsize=(10, 6))\n",
        "network_call_duration.plot(kind='bar', color='green')\n",
        "plt.title('Top 5 Networks by Call Duration')\n",
        "plt.xlabel('Network')\n",
        "plt.ylabel('Total Call Duration (seconds)')\n",
        "plt.xticks(rotation=45)\n",
        "plt.show()\n"
      ],
      "metadata": {
        "id": "Ul5ieVkTt_eC"
      },
      "execution_count": null,
      "outputs": []
    },
    {
      "cell_type": "code",
      "source": [
        "# Calculate the average call duration for each network type\n",
        "avg_call_duration_network_type = df[df['item'] == 'call'].groupby('network_type')['duration'].mean()\n",
        "\n",
        "# Plot the average call duration by network type\n",
        "plt.figure(figsize=(8, 6))\n",
        "avg_call_duration_network_type.plot(kind='bar', color='purple')\n",
        "plt.title('Average Call Duration by Network Type')\n",
        "plt.xlabel('Network Type')\n",
        "plt.ylabel('Average Call Duration (seconds)')\n",
        "plt.xticks(rotation=0)\n",
        "plt.show()\n"
      ],
      "metadata": {
        "id": "vqQdluFguMmY"
      },
      "execution_count": null,
      "outputs": []
    },
    {
      "cell_type": "code",
      "source": [
        "# Extract day from 'date' column\n",
        "df['day'] = pd.to_datetime(df['date'], format='%d/%m/%y %H:%M').dt.day\n",
        "\n",
        "# Plot the number of activities per day\n",
        "plt.figure(figsize=(12, 6))\n",
        "sns.countplot(x='day', data=df)\n",
        "plt.title('Number of Activities per Day')\n",
        "plt.xlabel('Day')\n",
        "plt.ylabel('Activity Count')\n",
        "plt.xticks(rotation=0)\n",
        "plt.show()\n"
      ],
      "metadata": {
        "id": "bAt-7IypuVQU"
      },
      "execution_count": null,
      "outputs": []
    }
  ]
}